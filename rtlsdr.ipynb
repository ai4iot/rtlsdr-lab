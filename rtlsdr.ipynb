{
 "cells": [
  {
   "cell_type": "markdown",
   "metadata": {},
   "source": [
    "# Uso de Script para Escuchar Radio con RTL-SDR\n",
    "Este script permite sintonizar y escuchar radio utilizando un dispositivo RTL-SDR. Se configura la frecuencia de escucha y la posibilidad de guardar el audio. La recepción se realiza mediante muestras de radiofrecuencia, procesadas para generar una señal de audio que se reproduce en tiempo real."
   ]
  },
  {
   "cell_type": "markdown",
   "metadata": {},
   "source": [
    "En primer lugar importamos las librerías necesarias para el desarrollo del proyecto."
   ]
  },
  {
   "cell_type": "code",
   "execution_count": null,
   "metadata": {},
   "outputs": [],
   "source": [
    "# Importar librerías necesarias\n",
    "import sys\n",
    "from typing import List\n",
    "from rtlsdr import RtlSdr\n",
    "import argparse\n",
    "import datetime\n",
    "import numpy as np\n",
    "import pyaudio\n",
    "import scipy.signal as sg\n",
    "import signal\n",
    "import wave"
   ]
  },
  {
   "cell_type": "markdown",
   "metadata": {},
   "source": [
    "Inicializamos las variables que vamos a utilizar y la salida de audio para nuestro dispositivo. Aquí indicamos la frecuencia que queremos sintonizar y si queremos guardar el audio en un archivo."
   ]
  },
  {
   "cell_type": "code",
   "execution_count": null,
   "metadata": {},
   "outputs": [
    {
     "ename": "",
     "evalue": "",
     "output_type": "error",
     "traceback": [
      "\u001b[1;31mLa ejecución de celdas con 'fm2txt' requiere el paquete ipykernel.\n",
      "\u001b[1;31mRun the following command to install 'ipykernel' into the Python environment. \n",
      "\u001b[1;31mCommand: 'conda install -n fm2txt ipykernel --update-deps --force-reinstall'"
     ]
    }
   ],
   "source": [
    "SampleStream = List[float]\n",
    "AudioStream = List[int]\n",
    "audio_rate = 48000\n",
    "save = False\n",
    "freq = 98000000\n",
    "# Inicializar dispositivo de salida de audio\n",
    "audio_output = pyaudio.PyAudio().open(format=pyaudio.paInt16, channels=1, rate=audio_rate, output=True)\n",
    "audio_data = []"
   ]
  },
  {
   "cell_type": "markdown",
   "metadata": {},
   "source": [
    "Esta función se encargará de guardar los datos de audio en un archivo. Para ello, se le pasa como parámetro el nombre del archivo y los datos de audio hasta el momento en el que se detiene la ejecución del script."
   ]
  },
  {
   "cell_type": "code",
   "execution_count": null,
   "metadata": {},
   "outputs": [],
   "source": [
    "def save_audio_data_to_file():\n",
    "    filename = f\"audio_{datetime.datetime.now().strftime('%Y%m%d%H%M%S')}.mp3\"\n",
    "    audio_data_bytes = np.array(audio_data).tobytes()\n",
    "    with wave.open(filename, 'wb') as wf:\n",
    "        wf.setnchannels(1)  # Número de canales (1 para mono, 2 para estéreo)\n",
    "        wf.setsampwidth(2)  # Ancho en bytes de cada muestra\n",
    "        wf.setframerate(48000)  # Tasa de muestreo en Hz\n",
    "        wf.writeframes(audio_data_bytes)"
   ]
  },
  {
   "cell_type": "markdown",
   "metadata": {},
   "source": [
    "**Función para manejar la interrupción del teclado (Ctrl+C)**: Gracias a esta función, podremos interrumpir en todo momento la ejecución del script, deteniendo la reproducción de audio y cerrando el dispositivo RTL-SDR. En caso de que hayamos indicado en la configuración que queremos guardar el audio, se guardará el archivo y se cerrará. "
   ]
  },
  {
   "cell_type": "code",
   "execution_count": null,
   "metadata": {},
   "outputs": [],
   "source": [
    "def signal_handler(sig, frame):\n",
    "    global sdr\n",
    "    sdr.cancel_read_async()\n",
    "    if save:\n",
    "        save_audio_data_to_file()\n",
    "    print(\"Ctrl+C detectado. Liberando recursos...\")\n",
    "    sdr.close()"
   ]
  },
  {
   "cell_type": "markdown",
   "metadata": {},
   "source": [
    "Con esta función controlamos la reproducción de audio, redireccionándolo a la salida de audio de nuestro dispositivo. En caso de que queramos que se guarde el audio al finalizar la ejecución, iremos añadiendo los datos de audio a una lista."
   ]
  },
  {
   "cell_type": "code",
   "execution_count": null,
   "metadata": {},
   "outputs": [],
   "source": [
    "def stream_audio(data: AudioStream):\n",
    "    if save:\n",
    "        audio_data.append(data)\n",
    "    audio_output.write(data)"
   ]
  },
  {
   "cell_type": "markdown",
   "metadata": {},
   "source": [
    "La función *process* se encarga de transformar las muestras de radiofrecuencia en una señal de audio que puede ser reproducida."
   ]
  },
  {
   "cell_type": "code",
   "execution_count": null,
   "metadata": {},
   "outputs": [],
   "source": [
    "def process(samples: SampleStream, sdr: RtlSdr) -> None:\n",
    "    sample_rate_fm = 240000\n",
    "    iq_comercial = sg.decimate(samples, int(sdr.get_sample_rate()) // sample_rate_fm)\n",
    "\n",
    "    angle_comercial = np.unwrap(np.angle(iq_comercial))\n",
    "    demodulated_comercial = np.diff(angle_comercial)\n",
    "    audio_signal = sg.decimate(demodulated_comercial, sample_rate_fm // audio_rate, zero_phase=True)\n",
    "    audio_signal = np.int16(14000 * audio_signal)\n",
    "\n",
    "    stream_audio(audio_signal.astype(\"int16\").tobytes())"
   ]
  },
  {
   "cell_type": "markdown",
   "metadata": {},
   "source": [
    "Finalmente, inicializamos el dispositivo RTL-SDR y comenzamos a escuchar la frecuencia indicada en la configuración. "
   ]
  },
  {
   "cell_type": "code",
   "execution_count": null,
   "metadata": {},
   "outputs": [],
   "source": [
    "sdr =  RtlSdr()\n",
    "signal.signal(signal.SIGINT, signal_handler) \n",
    "try:\n",
    "    sdr.rs = 240000\n",
    "    sdr.fc = freq\n",
    "    sdr.gain = 'auto'\n",
    "    sdr.err_ppm = 40\n",
    "    sdr.read_samples_async(process, int(sdr.get_sample_rate()) // 16)\n",
    "finally:\n",
    "    sys.exit(0)"
   ]
  }
 ],
 "metadata": {
  "kernelspec": {
   "display_name": "fm2txt",
   "language": "python",
   "name": "python3"
  },
  "language_info": {
   "name": "python",
   "version": "3.8.18"
  }
 },
 "nbformat": 4,
 "nbformat_minor": 2
}
